{
 "cells": [
  {
   "cell_type": "code",
   "execution_count": 1,
   "metadata": {},
   "outputs": [],
   "source": [
    "import torch\n",
    "import torch.nn as nn\n",
    "import matplotlib.pyplot as plt\n",
    "from tqdm.notebook import trange"
   ]
  },
  {
   "cell_type": "code",
   "execution_count": 282,
   "metadata": {},
   "outputs": [],
   "source": [
    "# 64位精度\n",
    "dtype = torch.float32\n",
    "\n",
    "mlp = nn.Sequential(\n",
    "    nn.Linear(2, 256, dtype=dtype),\n",
    "    nn.LeakyReLU(),\n",
    "    nn.Linear(256, 256, dtype=dtype),\n",
    "    nn.LeakyReLU(),\n",
    "    nn.Linear(256, 256, dtype=dtype),\n",
    "    nn.LeakyReLU(),\n",
    "    nn.Linear(256, 1, dtype=dtype),\n",
    ")\n",
    "\n",
    "mlp = mlp.to('cuda')"
   ]
  },
  {
   "cell_type": "code",
   "execution_count": 419,
   "metadata": {},
   "outputs": [],
   "source": [
    "# def sample_func(x, y):\n",
    "#     return (torch.sin(2 * torch.pi * x) - torch.cos(2 * torch.pi * y) > 0.5).float()\n",
    "# def sample_func(x):\n",
    "#     return (torch.sin(0.5 * torch.pi * x)>0.5).float()\n",
    "def circle_sdf(center, radius, point):\n",
    "    # 计算点到圆心的距离\n",
    "    distance_to_center = np.linalg.norm(np.array(point) - np.array(center), axis=1)\n",
    "    # 计算SDF值\n",
    "    sdf_value = distance_to_center - radius\n",
    "    return sdf_value\n",
    "\n",
    "@torch.no_grad()\n",
    "def sample_func(x):\n",
    "    return (x[..., 0] ** 2 + x[..., 1] ** 2 < 0.3).to(dtype)"
   ]
  },
  {
   "cell_type": "code",
   "execution_count": 284,
   "metadata": {},
   "outputs": [],
   "source": [
    "x = torch.linspace(-1, 1, 10).to('cuda')\n",
    "y = torch.linspace(-1, 1, 10).to('cuda')\n",
    "xx, yy = torch.meshgrid(x, y)\n",
    "xx = xx.reshape(-1, 1).to('cuda')\n",
    "yy = yy.reshape(-1, 1).to('cuda')\n",
    "xy = torch.cat([xx, yy], dim=1)\n",
    "z = sample_func(xy)"
   ]
  },
  {
   "cell_type": "code",
   "execution_count": null,
   "metadata": {},
   "outputs": [],
   "source": [
    "ax = plt.figure().add_subplot(projection='3d')\n",
    "ax.contourf(xx.view(10, 10).cpu().numpy(), yy.view(10, 10).cpu().numpy(), z.view(10, 10).cpu().numpy())\n",
    "plt.show()"
   ]
  },
  {
   "cell_type": "code",
   "execution_count": null,
   "metadata": {},
   "outputs": [],
   "source": [
    "y_pred.shape"
   ]
  },
  {
   "cell_type": "code",
   "execution_count": null,
   "metadata": {},
   "outputs": [],
   "source": [
    "loss_fn = nn.BCEWithLogitsLoss()\n",
    "optimizer = torch.optim.Adam(mlp.parameters(), lr=0.001)\n",
    "gt_x = 2 * torch.rand(20, 2, device='cuda', dtype=dtype).reshape(-1, 2) - 1\n",
    "gt_y = sample_func(gt_x)\n",
    "tbar = trange(10000)\n",
    "for i in tbar:\n",
    "    y_pred = mlp(gt_x)\n",
    "    loss = loss_fn(y_pred, gt_y[..., None])\n",
    "    \n",
    "    optimizer.zero_grad()\n",
    "    loss.backward()\n",
    "    optimizer.step()\n",
    "    tbar.set_description(f'Loss: {loss.item():.4f}')\n"
   ]
  },
  {
   "cell_type": "code",
   "execution_count": 290,
   "metadata": {},
   "outputs": [],
   "source": [
    "y_raw = mlp(xy).view(10, 10)\n",
    "y_sgm = torch.sigmoid(y_raw).detach().cpu().numpy()"
   ]
  },
  {
   "cell_type": "code",
   "execution_count": null,
   "metadata": {},
   "outputs": [],
   "source": [
    "ax = plt.figure().add_subplot(projection='3d')\n",
    "ax.contourf(xx.view(10, 10).cpu().numpy(), yy.view(10, 10).cpu().numpy(), y_sgm)\n",
    "plt.show()"
   ]
  },
  {
   "cell_type": "code",
   "execution_count": null,
   "metadata": {},
   "outputs": [],
   "source": [
    "x = torch.linspace(-0.0000001, 0.0, 100).reshape(-1, 1).to('cuda')\n",
    "y = torch.linspace(0.5-0.0000001, 0.5, 100).reshape(-1, 1).to('cuda')\n",
    "x, y = torch.meshgrid(x, y)\n",
    "x = x.reshape(-1, 1).to('cuda')\n",
    "y = y.reshape(-1, 1).to('cuda')\n",
    "detail_xy = torch.cat([x, y], dim=1)\n",
    "\n",
    "y_pred = mlp(detail_xy).detach().cpu().numpy()\n",
    "# plt.plot(x.detach().cpu().numpy(), y_pred)"
   ]
  },
  {
   "cell_type": "code",
   "execution_count": null,
   "metadata": {},
   "outputs": [],
   "source": [
    "x"
   ]
  },
  {
   "cell_type": "code",
   "execution_count": null,
   "metadata": {},
   "outputs": [],
   "source": [
    "resolution = 100\n",
    "pad = 1\n",
    "x = torch.linspace(0.0-pad, 0.0+pad, resolution, dtype=dtype).to('cuda')\n",
    "y = torch.linspace(0.0-pad, 0.0+pad, resolution, dtype=dtype).to('cuda')\n",
    "xx, yy = torch.meshgrid(x, y)\n",
    "xx = xx.reshape(-1).to('cuda')\n",
    "yy = yy.reshape(-1).to('cuda')\n",
    "xy = torch.stack([xx, yy], dim=1)\n",
    "\n",
    "y_raw = torch.cos(4*torch.pi*xx) * 0.05 + torch.cos(4*torch.pi*yy) * 0.05 + sample_func(xy) - 0.5\n",
    "y_sgm = y_raw.view(resolution, resolution).detach().cpu().numpy()\n",
    "\n",
    "ax = plt.figure().add_subplot(projection='3d')\n",
    "ax.plot_surface(xx.view(resolution, resolution).cpu().numpy(), yy.view(resolution, resolution).cpu().numpy(), y_sgm, rstride=8, cstride=8, lw=0.5,\n",
    "                edgecolor='royalblue', alpha=0.3)\n",
    "ax.contourf(xx.view(resolution, resolution).cpu().numpy(), yy.view(resolution, resolution).cpu().numpy(), y_sgm, [-1.0, -0.2, 0.0, 0.2, 1.0], zdir='z', offset=-2, cmap='viridis')\n",
    "# 关闭 z 轴label，保留刻度\n",
    "ax.xaxis.set_ticklabels([])\n",
    "ax.yaxis.set_ticklabels([])\n",
    "ax.zaxis.set_ticklabels([])\n",
    "ax.set_zlim(-2, 1)\n",
    "\n",
    "plt.show()"
   ]
  },
  {
   "cell_type": "code",
   "execution_count": null,
   "metadata": {},
   "outputs": [],
   "source": [
    "def circle_sdf(center, radius, point):\n",
    "    # 计算点到圆心的距离\n",
    "    distance_to_center = np.linalg.norm(np.array(point) - np.array(center), axis=1)\n",
    "    # 计算SDF值\n",
    "    sdf_value = distance_to_center - radius\n",
    "    return sdf_value"
   ]
  },
  {
   "cell_type": "code",
   "execution_count": null,
   "metadata": {},
   "outputs": [],
   "source": [
    "grid_x, grid_y = np.mgrid[-5:5:100j, -5:5:100j]\n",
    "xy = np.concatenate([grid_x.reshape(-1, 1), grid_y.reshape(-1, 1)], axis=-1)"
   ]
  },
  {
   "cell_type": "code",
   "execution_count": null,
   "metadata": {},
   "outputs": [],
   "source": [
    "sdf0 = circle_sdf((0.8, 0), 4, xy*2).reshape(100, 100)\n",
    "sdf1 = circle_sdf((0, 2), 4, xy*2).reshape(100, 100)\n",
    "sdf2 = circle_sdf((0, -2), 4, xy*2).reshape(100, 100)\n",
    "sdf3 = circle_sdf((0.6, -1), 4, xy*2).reshape(100, 100)\n",
    "sdf4 = circle_sdf((0.6, 1), 4, xy*2).reshape(100, 100)\n",
    "\n",
    "sdf = np.min(np.stack([sdf0, sdf1, sdf2, sdf3, sdf4]), axis=0)\n",
    "# sdf = sdf"
   ]
  },
  {
   "cell_type": "code",
   "execution_count": null,
   "metadata": {},
   "outputs": [],
   "source": [
    "kernal = np.ones((3, 3)) / 9\n",
    "for i in range(30):\n",
    "    sdf = scipy.ndimage.convolve(sdf, kernal)"
   ]
  },
  {
   "cell_type": "code",
   "execution_count": null,
   "metadata": {},
   "outputs": [],
   "source": [
    "import io\n",
    "buf = io.BytesIO()\n",
    "\n",
    "plt.figure(figsize=(6,6))\n",
    "plt.contourf(sdf, origin='lower', cmap='viridis')\n",
    "plt.contour(sdf, [-2.38], colors =['red'], linestyles='solid', linewidths=5)\n",
    "plt.subplots_adjust(left=0, right=1, top=1, bottom=0, wspace=0, hspace=0)\n",
    "# plt.tight_layout()\n",
    "plt.axis('off')\n",
    "plt.savefig(buf, format='png')\n",
    "# plt.adj\n",
    "# plt.show()"
   ]
  },
  {
   "cell_type": "code",
   "execution_count": null,
   "metadata": {},
   "outputs": [],
   "source": [
    "sdf.shape\n",
    "x = torch.linspace(0.0-pad, 0.0+pad, resolution, dtype=dtype).to('cuda')\n",
    "y = torch.linspace(0.0-pad, 0.0+pad, resolution, dtype=dtype).to('cuda')"
   ]
  },
  {
   "cell_type": "code",
   "execution_count": null,
   "metadata": {},
   "outputs": [],
   "source": [
    "ax = plt.figure().add_subplot(projection='3d')\n",
    "sigmoid_sdf = torch.sigmoid(torch.tensor((sdf+1)*5)).numpy() + 0.03*np.cos(grid_x*2) + 0.03*np.cos(grid_y*2)\n",
    "ax.plot_surface(grid_x, grid_y, sigmoid_sdf, rstride=10, cstride=10, lw=0.5,\n",
    "                edgecolor='royalblue', alpha=0.3, zorder=1)\n",
    "\n",
    "ax.contourf(grid_x, grid_y, sdf, zdir='z', offset=-0.2, cmap='viridis', zorder=1)\n",
    "# ax.contour(grid_x, grid_y, sdf, [-2.38], colors =['r'], linestyles='solid', linewidths=5, offset=-1, zorder=2)\n",
    "# ax.scatter(grid_x[80, 50], grid_y[80, 50], sigmoid_sdf[80, 50], c='red', s=50, zorder=0)\n",
    "# ax.scatter(grid_x[90, 40], grid_y[90, 40], sigmoid_sdf[90, 40], c='red', s=50, zorder=0)\n",
    "# direction_x = grid_x[90, 40]-grid_x[80, 50]\n",
    "# direction_y = grid_y[90, 40]-grid_y[80, 50]\n",
    "# direction_z = sigmoid_sdf[90, 40]-sigmoid_sdf[80, 50]\n",
    "# direction_l = np.linalg.norm([direction_x, direction_y, direction_z])\n",
    "# ax.quiver(grid_x[80, 50], grid_y[80, 50], sigmoid_sdf[80, 50], direction_x, direction_y, direction_z, length=direction_l, color='blue', )\n",
    "# 关闭 z 轴label，保留刻度\n",
    "ax.xaxis.set_ticklabels([])\n",
    "ax.yaxis.set_ticklabels([])\n",
    "ax.zaxis.set_ticklabels([])\n",
    "ax.set_zlim(-0.2, 1)\n",
    "\n",
    "plt.show()"
   ]
  },
  {
   "cell_type": "code",
   "execution_count": null,
   "metadata": {},
   "outputs": [],
   "source": [
    "from PIL import Image, ImageDraw\n",
    "buf.seek(0)  # 移动到字节流的开始位置\n",
    "im = Image.open(buf)\n",
    "draw = ImageDraw.Draw(im)"
   ]
  },
  {
   "cell_type": "code",
   "execution_count": null,
   "metadata": {},
   "outputs": [],
   "source": [
    "draw.line([(0, 2.5), (im.width, 2.5)], fill='black', width=5)\n",
    "draw.line([(5, 0), (5, im.height)], fill='black', width=10)\n",
    "im"
   ]
  },
  {
   "cell_type": "code",
   "execution_count": null,
   "metadata": {},
   "outputs": [],
   "source": [
    "x = torch.linspace(-8, 8, 100)\n",
    "y = torch.sigmoid(x)"
   ]
  },
  {
   "cell_type": "code",
   "execution_count": null,
   "metadata": {},
   "outputs": [],
   "source": [
    "plt.figure(figsize=(6, 6), facecolor=[154/255, 201/255, 219/255])\n",
    "plt.plot(x, y, c=[72/255, 27/255, 109/255], linewidth=10)\n",
    "plt.axis('off')"
   ]
  },
  {
   "cell_type": "code",
   "execution_count": null,
   "metadata": {},
   "outputs": [],
   "source": [
    "y_pred = torch.sigmoid(mlp(x[..., None])).detach().cpu().numpy()\n",
    "plt.plot(x.detach().cpu().numpy(), y_pred)"
   ]
  },
  {
   "cell_type": "code",
   "execution_count": null,
   "metadata": {},
   "outputs": [],
   "source": [
    "y_pred = torch.sigmoid(mlp(x[..., None])).detach().cpu().numpy()\n",
    "plt.plot(x.detach().cpu().numpy(), y_pred)"
   ]
  },
  {
   "cell_type": "code",
   "execution_count": null,
   "metadata": {},
   "outputs": [],
   "source": [
    "x = torch.linspace(-1, 1, 1000).reshape(-1, 1).to('cuda')\n",
    "y = torch.sin(2 * torch.pi * x).to('cuda')\n",
    "\n",
    "plt.plot(x.detach().cpu().numpy(), y)\n",
    "plt.show()"
   ]
  }
 ],
 "metadata": {
  "kernelspec": {
   "display_name": "dr",
   "language": "python",
   "name": "python3"
  },
  "language_info": {
   "codemirror_mode": {
    "name": "ipython",
    "version": 3
   },
   "file_extension": ".py",
   "mimetype": "text/x-python",
   "name": "python",
   "nbconvert_exporter": "python",
   "pygments_lexer": "ipython3",
   "version": "3.10.15"
  }
 },
 "nbformat": 4,
 "nbformat_minor": 2
}
