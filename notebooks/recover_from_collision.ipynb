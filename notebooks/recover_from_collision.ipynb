{
 "cells": [
  {
   "cell_type": "code",
   "execution_count": null,
   "metadata": {},
   "outputs": [],
   "source": [
    "import os\n",
    "os.environ['MUJOCO_GL'] = 'egl'\n",
    "os.environ['CUDA_VISIBLE_DEVICES'] = '1'\n",
    "\n",
    "if 'notebooks' not in os.listdir(os.getcwd()):\n",
    "    os.chdir('../') #changing directories so that output/gsplat_full etc. exists\n",
    "\n",
    "from collision.utils import DummyCam, ImageDemoDataset, generate_camera, put_pose_into_mujoco, update_reconstruction_dict, get_normalized_function\n",
    "from utils.mujoco_utils import compute_camera_extrinsic_matrix\n",
    "from scene.cameras import Camera_Pose\n",
    "from collision.chain_utils import build_chain_relation_map\n",
    "from collision.network import SingleNetwork, HyperNetwork\n",
    "from contextlib import redirect_stdout\n",
    "from video_api import initialize_gaussians\n",
    "\n",
    "import cv2\n",
    "from gaussian_renderer import render\n",
    "import sys \n",
    "import torch \n",
    "from PIL import Image\n",
    "import numpy as np\n",
    "import mujoco\n",
    "import matplotlib.pyplot as plt\n",
    "import torch.nn.functional as F\n",
    "from tqdm import tqdm, trange\n",
    "from transformers import CLIPProcessor, CLIPModel\n",
    "from IPython.display import display, clear_output\n",
    "from torchvision.transforms import transforms\n",
    "\n",
    "\n",
    "from pathlib import Path\n",
    "from itertools import cycle"
   ]
  },
  {
   "cell_type": "code",
   "execution_count": 5,
   "metadata": {},
   "outputs": [],
   "source": [
    "# load mujoco\n",
    "model_xml_path = Path(\"collision_scene/universal_robots_ur5e_scene2/scene.xml\")\n",
    "model = mujoco.MjModel.from_xml_path(model_xml_path.as_posix())\n",
    "data = mujoco.MjData(model)\n",
    "\n",
    "mujoco.mj_resetData(model, data)\n",
    "\n",
    "\n",
    "def sample_collision_pose():\n",
    "    pose = np.random.uniform(model.jnt_range[:, 0], model.jnt_range[:, 1])\n",
    "    put_pose_into_mujoco(model, data, pose)\n",
    "    return pose"
   ]
  },
  {
   "cell_type": "code",
   "execution_count": 6,
   "metadata": {},
   "outputs": [],
   "source": [
    "# set camera\n",
    "dummy_cams = [\n",
    "    DummyCam(0, -45.0, 2.5, lookat=[0,  0, 0]),\n",
    "]\n",
    "cams = [generate_camera(dummy_cam) for dummy_cam in dummy_cams]\n",
    "\n",
    "renderer = mujoco.Renderer(model, 480, 480)\n",
    "renderer.update_scene(data, camera=cams[0])"
   ]
  },
  {
   "cell_type": "code",
   "execution_count": null,
   "metadata": {},
   "outputs": [],
   "source": [
    "mujoco.mj_resetData(model, data)\n",
    "\n",
    "while data.ncon != 10:\n",
    "    pose = sample_collision_pose()\n",
    "\n",
    "renderer.update_scene(data, camera=cams[0])\n",
    "pixels = renderer.render()\n",
    "image = Image.fromarray(pixels)\n",
    "image"
   ]
  },
  {
   "cell_type": "code",
   "execution_count": 57,
   "metadata": {},
   "outputs": [],
   "source": [
    "relation_map, chain = build_chain_relation_map(model_xml_path.as_posix())\n",
    "sdf_model = HyperNetwork(chain.n_joints, relation_map)\n",
    "state_dict = torch.load('output/universal_robots_ur5e_robotiq/sdf_net.ckpt', weights_only=True)\n",
    "sdf_model.load_state_dict(state_dict)\n",
    "for parameters in sdf_model.parameters():\n",
    "    parameters.requires_grad_(False)\n",
    "sdf_model.cuda()\n",
    "del state_dict"
   ]
  },
  {
   "cell_type": "code",
   "execution_count": 58,
   "metadata": {},
   "outputs": [],
   "source": [
    "sdf_we_model = HyperNetwork(chain.n_joints, relation_map)\n",
    "state_dict = torch.load('output/universal_robots_ur5e_robotiq/sdf_net_wo_eik.ckpt', weights_only=True)\n",
    "sdf_we_model.load_state_dict(state_dict)\n",
    "for parameters in sdf_model.parameters():\n",
    "    parameters.requires_grad_(False)\n",
    "sdf_we_model.cuda()\n",
    "del state_dict"
   ]
  },
  {
   "cell_type": "code",
   "execution_count": 28,
   "metadata": {},
   "outputs": [],
   "source": []
  },
  {
   "cell_type": "code",
   "execution_count": 59,
   "metadata": {},
   "outputs": [],
   "source": [
    "def get_p(sdf_m, joint_angles):\n",
    "    sdf, s = sdf_m(joint_angles[None])\n",
    "    return torch.sigmoid(sdf * s)\n"
   ]
  },
  {
   "cell_type": "code",
   "execution_count": null,
   "metadata": {},
   "outputs": [],
   "source": [
    "get_p(sdf_model, joint_angles), get_p(sdf_we_model, joint_angles)"
   ]
  },
  {
   "cell_type": "code",
   "execution_count": null,
   "metadata": {},
   "outputs": [],
   "source": [
    "sdf_model(joint_angles[None]), sdf_we_model(joint_angles[None])"
   ]
  },
  {
   "cell_type": "code",
   "execution_count": 62,
   "metadata": {},
   "outputs": [],
   "source": [
    "import time"
   ]
  },
  {
   "cell_type": "code",
   "execution_count": null,
   "metadata": {},
   "outputs": [],
   "source": [
    "joint_angles = torch.tensor(pose, dtype=torch.float32).cuda()\n",
    "action_t = torch.nn.Parameter(joint_angles, requires_grad=True,)\n",
    "optimize = torch.optim.Adam([action_t], lr=0.01)\n",
    "first = time.time()\n",
    "for i in range(1000):    \n",
    "    sdf, s = sdf_model(action_t[None])\n",
    "    \n",
    "    if sdf < -0.100:\n",
    "        break\n",
    "    else:\n",
    "        optimize.zero_grad()\n",
    "        sdf.backward()\n",
    "        optimize.step()\n",
    "secend = time.time()\n",
    "print(f\"SDF:{sdf.item():.4f} T:{secend - first:.4f}\")"
   ]
  },
  {
   "cell_type": "code",
   "execution_count": null,
   "metadata": {},
   "outputs": [],
   "source": [
    "sdf, s = sdf_model(action_t[None])\n",
    "sdf.backward()\n",
    "action_t.grad"
   ]
  },
  {
   "cell_type": "code",
   "execution_count": null,
   "metadata": {},
   "outputs": [],
   "source": [
    "data.qpos = action_t.detach().cpu().numpy()\n",
    "mujoco.mj_step(model, data)\n",
    "mujoco.mj_collision(model, data)\n",
    "\n",
    "print(data.ncon)\n",
    "renderer.update_scene(data, camera=cams[0])\n",
    "pixels = renderer.render()\n",
    "image = Image.fromarray(pixels)\n",
    "image"
   ]
  },
  {
   "cell_type": "code",
   "execution_count": null,
   "metadata": {},
   "outputs": [],
   "source": [
    "joint_angles = torch.tensor(pose, dtype=torch.float32).cuda()\n",
    "action_t = torch.nn.Parameter(joint_angles, requires_grad=True,)\n",
    "optimize = torch.optim.Adam([action_t], lr=0.01)\n",
    "first = time.time()\n",
    "tbar = trange(1000)\n",
    "for i in tbar:    \n",
    "    p = get_p(sdf_we_model, action_t)\n",
    "    \n",
    "    if p < 0.5:\n",
    "        break\n",
    "    else:\n",
    "        optimize.zero_grad()\n",
    "        p.backward()\n",
    "        optimize.step()\n",
    "    tbar.set_postfix({\n",
    "        \"p\": format(p.item(), '.4f'),\n",
    "    })\n",
    "secend = time.time()\n",
    "print(f\"p:{p.item():.4f} T:{secend - first:.4f}\")"
   ]
  },
  {
   "cell_type": "code",
   "execution_count": null,
   "metadata": {},
   "outputs": [],
   "source": [
    "get_p(sdf_model, action_t).item(), get_p(sdf_we_model, action_t).item()"
   ]
  },
  {
   "cell_type": "code",
   "execution_count": null,
   "metadata": {},
   "outputs": [],
   "source": [
    "action_t.grad"
   ]
  },
  {
   "cell_type": "code",
   "execution_count": 74,
   "metadata": {},
   "outputs": [],
   "source": [
    "temp.backward()"
   ]
  },
  {
   "cell_type": "code",
   "execution_count": null,
   "metadata": {},
   "outputs": [],
   "source": [
    "data.qpos = action_t.detach().cpu().numpy()\n",
    "mujoco.mj_step(model, data)\n",
    "mujoco.mj_collision(model, data)\n",
    "\n",
    "print(data.ncon)\n",
    "renderer.update_scene(data, camera=cams[0])\n",
    "pixels = renderer.render()\n",
    "image = Image.fromarray(pixels)\n",
    "image"
   ]
  }
 ],
 "metadata": {
  "kernelspec": {
   "display_name": "dr",
   "language": "python",
   "name": "python3"
  },
  "language_info": {
   "codemirror_mode": {
    "name": "ipython",
    "version": 3
   },
   "file_extension": ".py",
   "mimetype": "text/x-python",
   "name": "python",
   "nbconvert_exporter": "python",
   "pygments_lexer": "ipython3",
   "version": "3.10.15"
  }
 },
 "nbformat": 4,
 "nbformat_minor": 2
}
