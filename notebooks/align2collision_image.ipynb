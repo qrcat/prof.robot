{
 "cells": [
  {
   "cell_type": "code",
   "execution_count": null,
   "metadata": {},
   "outputs": [],
   "source": [
    "import os\n",
    "os.environ['MUJOCO_GL'] = 'egl'\n",
    "\n",
    "if 'notebooks' not in os.listdir(os.getcwd()):\n",
    "    os.chdir('../') #changing directories so that output/gsplat_full etc. exists\n",
    "\n",
    "from collision.utils import DummyCam, ImageDemoDataset, generate_camera, put_pose_into_mujoco, update_reconstruction_dict, get_normalized_function\n",
    "from utils.mujoco_utils import compute_camera_extrinsic_matrix\n",
    "from scene.cameras import Camera_Pose\n",
    "from collision.chain_utils import build_chain_relation_map\n",
    "from collision.network import SingleNetwork, HyperNetwork\n",
    "from contextlib import redirect_stdout\n",
    "from video_api import initialize_gaussians\n",
    "\n",
    "import cv2\n",
    "from gaussian_renderer import render\n",
    "import sys \n",
    "import torch \n",
    "from PIL import Image\n",
    "import numpy as np\n",
    "import mujoco\n",
    "import matplotlib.pyplot as plt\n",
    "import torch.nn.functional as F\n",
    "from tqdm import tqdm, trange\n",
    "from mujoco.usd import exporter\n",
    "\n",
    "from IPython.display import display, clear_output\n",
    "from torchvision.transforms import transforms\n",
    "\n",
    "\n",
    "from pathlib import Path\n",
    "from itertools import cycle"
   ]
  },
  {
   "cell_type": "code",
   "execution_count": 2,
   "metadata": {},
   "outputs": [],
   "source": [
    "# load mujoco\n",
    "model_xml_dir = Path(\"collision_scene/universal_robots_ur5e_scene2\")\n",
    "model_xml_path = model_xml_dir / \"scene.xml\"\n",
    "\n",
    "model = mujoco.MjModel.from_xml_path(model_xml_path.as_posix())\n",
    "data = mujoco.MjData(model)\n",
    "\n",
    "mujoco.mj_resetData(model, data)\n",
    "\n",
    "\n",
    "def sample_collision_pose():\n",
    "    pose = np.random.uniform(model.jnt_range[:, 0], model.jnt_range[:, 1])\n",
    "    put_pose_into_mujoco(model, data, pose)\n",
    "    return pose"
   ]
  },
  {
   "cell_type": "code",
   "execution_count": 3,
   "metadata": {},
   "outputs": [],
   "source": [
    "# set camera\n",
    "dummy_cams = [\n",
    "    DummyCam(0, -45.0, 2.5),\n",
    "    DummyCam(0, -60.0, 2.5),\n",
    "    DummyCam(0, -75.0, 2.5),\n",
    "    DummyCam(0, -90.0, 2.5),\n",
    "]\n",
    "cams = [generate_camera(dummy_cam) for dummy_cam in dummy_cams]\n",
    "\n",
    "renderer = mujoco.Renderer(model, 480, 480)\n",
    "renderer.update_scene(data, camera=cams[0])"
   ]
  },
  {
   "cell_type": "code",
   "execution_count": null,
   "metadata": {},
   "outputs": [],
   "source": [
    "while True:\n",
    "    pose = sample_collision_pose()\n",
    "    if data.ncon == 2:\n",
    "        break\n",
    "\n",
    "renderer.update_scene(data, camera=cams[0])\n",
    "pixels = renderer.render()\n",
    "image = Image.fromarray(pixels)\n",
    "image"
   ]
  },
  {
   "cell_type": "code",
   "execution_count": null,
   "metadata": {},
   "outputs": [],
   "source": [
    "exp = exporter.USDExporter(model=model)\n",
    "exp.update_scene(data=data)\n",
    "exp.save_scene(filetype=\"usd\")"
   ]
  },
  {
   "cell_type": "code",
   "execution_count": null,
   "metadata": {},
   "outputs": [],
   "source": [
    "sys.argv = ['']\n",
    "gaussians, background_color, sample_cameras, kinematic_chain = initialize_gaussians(model_path='output/universal_robots_ur5e_experiment')"
   ]
  },
  {
   "cell_type": "code",
   "execution_count": 46,
   "metadata": {},
   "outputs": [],
   "source": [
    "background_tuple = (255, 255, 255)\n",
    "reconstruction = update_reconstruction_dict(renderer, data, dummy_cams, cams)\n",
    "dataset = ImageDemoDataset(reconstruction, background_color=(255, 255, 255))"
   ]
  },
  {
   "cell_type": "code",
   "execution_count": 47,
   "metadata": {},
   "outputs": [],
   "source": [
    "norm_fun, unnorm_fun = get_normalized_function(*kinematic_chain.get_joint_limits())\n",
    "\n",
    "init_params = pose\n",
    "joint_angles = torch.nn.Parameter(\n",
    "    torch.tensor(init_params, dtype=torch.float32, device='cuda')\n",
    ")\n",
    "optimizer = torch.optim.Adam([joint_angles], lr=0.02)\n",
    "scheduler = torch.optim.lr_scheduler.StepLR(optimizer, step_size=50, gamma=0.95)"
   ]
  },
  {
   "cell_type": "code",
   "execution_count": 48,
   "metadata": {},
   "outputs": [],
   "source": [
    "bg_color_t = torch.tensor(background_tuple).float().cuda() / 255.0\n",
    "\n",
    "cam_list = []\n",
    "mask_list = []\n",
    "image_list = []\n",
    "depth_list = []\n",
    "\n",
    "for dummy_cam, image, segment, depth in dataset:\n",
    "    camera_extrinsic_matrix = compute_camera_extrinsic_matrix(dummy_cam)\n",
    "    cam_list.append(\n",
    "        Camera_Pose(torch.tensor(camera_extrinsic_matrix).clone().detach().float().cuda(), 0.78, 0.78, 480, 480, joint_pose=norm_fun(joint_angles), zero_init=True).cuda()\n",
    "    )\n",
    "    mask_list.append(segment[0].bool().cuda())\n",
    "    image_list.append(image.cuda())\n",
    "    depth_list.append(depth[0].cuda())"
   ]
  },
  {
   "cell_type": "code",
   "execution_count": null,
   "metadata": {},
   "outputs": [],
   "source": [
    "max_iteration = 400\n",
    "\n",
    "topil = transforms.ToPILImage()\n",
    "\n",
    "camera_pkg = cycle(zip(cam_list, mask_list, image_list, depth_list))\n",
    "\n",
    "tbar = trange(max_iteration, leave=True)\n",
    "for iteration in tbar:\n",
    "    camera, gt_mask, gt_image, gt_depth = next(camera_pkg)\n",
    "    \n",
    "    camera.joint_pose = norm_fun(joint_angles)\n",
    "\n",
    "    output_pkg = render(camera, gaussians, bg_color_t)\n",
    "    image_tensor = output_pkg['render']\n",
    "    depth_tensor = output_pkg['depth']\n",
    "\n",
    "    Ll2 = F.mse_loss(image_tensor, gt_image)\n",
    "    Ldepth = F.mse_loss(depth_tensor, gt_depth)\n",
    "    Ll2_s = F.mse_loss(image_tensor[:, gt_mask], gt_image[:, gt_mask])\n",
    "    Ldepth_s = F.mse_loss(depth_tensor[gt_mask], gt_depth[gt_mask])\n",
    "\n",
    "\n",
    "    loss = 0.1 * Ll2 + 0.1 * Ldepth + Ll2_s + Ldepth_s\n",
    "    loss = loss / len(cam_list)\n",
    "\n",
    "    loss.backward()\n",
    "\n",
    "    if iteration % len(cam_list) == 0:\n",
    "        optimizer.step()\n",
    "        optimizer.zero_grad()\n",
    "        # scheduler.step()\n",
    "        clear_output(wait=True)\n",
    "        display(topil(image_tensor))\n",
    "    \n",
    "    tbar.set_postfix({\n",
    "        \"L2\": format(Ll2, \".3f\"),\n",
    "        \"Ld\": format(Ldepth, \".3f\"),\n",
    "        \"LR\": format(scheduler.get_last_lr()[0], \".3f\"),\n",
    "    })"
   ]
  },
  {
   "cell_type": "code",
   "execution_count": null,
   "metadata": {},
   "outputs": [],
   "source": [
    "put_pose_into_mujoco(model, data, joint_angles.detach().cpu().numpy())\n",
    "print(data.ncon)\n",
    "renderer.update_scene(data, camera=cams[0])\n",
    "pixels = renderer.render()\n",
    "image = Image.fromarray(pixels)\n",
    "image"
   ]
  },
  {
   "cell_type": "code",
   "execution_count": null,
   "metadata": {},
   "outputs": [],
   "source": [
    "exp = exporter.USDExporter(model=model)\n",
    "exp.update_scene(data=data)\n",
    "exp.save_scene(filetype=\"usd\")"
   ]
  },
  {
   "cell_type": "code",
   "execution_count": 52,
   "metadata": {},
   "outputs": [],
   "source": [
    "output_path = Path(\"output/universal_robots_ur5e_scene2_collision\")\n",
    "\n",
    "relation_map, chain = build_chain_relation_map(model_xml_path.as_posix())\n",
    "sdf_model = HyperNetwork(chain.n_joints, relation_map)\n",
    "state_dict = torch.load(output_path / 'sdf_net.ckpt', weights_only=True)\n",
    "sdf_model.load_state_dict(state_dict)\n",
    "for parameters in sdf_model.parameters():\n",
    "    parameters.requires_grad_(False)\n",
    "sdf_model.cuda()\n",
    "del state_dict"
   ]
  },
  {
   "cell_type": "code",
   "execution_count": null,
   "metadata": {},
   "outputs": [],
   "source": [
    "max_iteration = 200\n",
    "\n",
    "topil = transforms.ToPILImage()\n",
    "\n",
    "camera_pkg = cycle(zip(cam_list, mask_list, image_list, depth_list))\n",
    "\n",
    "tbar = trange(max_iteration, leave=True)\n",
    "for iteration in tbar:\n",
    "    camera, gt_mask, gt_image, gt_depth = next(camera_pkg)\n",
    "    \n",
    "    camera.joint_pose = norm_fun(joint_angles)\n",
    "\n",
    "    output_pkg = render(camera, gaussians, bg_color_t)\n",
    "    image_tensor = output_pkg['render']\n",
    "    depth_tensor = output_pkg['depth']\n",
    "\n",
    "    Ll2 = F.mse_loss(image_tensor, gt_image)\n",
    "    Ldepth = F.mse_loss(depth_tensor, gt_depth[0])\n",
    "    Ll2_s = F.mse_loss(image_tensor[:, gt_mask], gt_image[:, gt_mask])\n",
    "    Ldepth_s = F.mse_loss(depth_tensor[gt_mask], gt_depth[gt_mask])\n",
    "\n",
    "    sdf, s = sdf_model(joint_angles[None])\n",
    "    loss = 0.1 * Ll2 + 0.1 * Ldepth + Ll2_s + Ldepth_s + sdf * 3\n",
    "\n",
    "    if sdf < -0.1:\n",
    "        break\n",
    "\n",
    "    loss = loss / len(cam_list)\n",
    "    \n",
    "    loss.backward()\n",
    "\n",
    "    if iteration % len(cam_list) == 0:\n",
    "        optimizer.step()\n",
    "        # scheduler.step()\n",
    "        optimizer.zero_grad()\n",
    "        clear_output(wait=True)\n",
    "        display(topil(image_tensor))\n",
    "    \n",
    "    tbar.set_postfix({\n",
    "        \"SDF\": format(sdf.item(), \".3f\"),\n",
    "        \"L2\": format(Ll2, \".3f\"),\n",
    "        \"Ld\": format(Ldepth, \".3f\"),\n",
    "        \"LR\": format(scheduler.get_last_lr()[0], \".3f\"),\n",
    "    })"
   ]
  },
  {
   "cell_type": "code",
   "execution_count": null,
   "metadata": {},
   "outputs": [],
   "source": [
    "put_pose_into_mujoco(model, data, joint_angles.detach().cpu().numpy())\n",
    "print(data.ncon)\n",
    "renderer.update_scene(data, camera=cams[0])\n",
    "pixels = renderer.render()\n",
    "image = Image.fromarray(pixels)\n",
    "image"
   ]
  },
  {
   "cell_type": "code",
   "execution_count": null,
   "metadata": {},
   "outputs": [],
   "source": [
    "exp = exporter.USDExporter(model=model)\n",
    "exp.update_scene(data=data)\n",
    "exp.save_scene(filetype=\"usd\")"
   ]
  }
 ],
 "metadata": {
  "kernelspec": {
   "display_name": "dr",
   "language": "python",
   "name": "python3"
  },
  "language_info": {
   "codemirror_mode": {
    "name": "ipython",
    "version": 3
   },
   "file_extension": ".py",
   "mimetype": "text/x-python",
   "name": "python",
   "nbconvert_exporter": "python",
   "pygments_lexer": "ipython3",
   "version": "3.10.15"
  }
 },
 "nbformat": 4,
 "nbformat_minor": 2
}
