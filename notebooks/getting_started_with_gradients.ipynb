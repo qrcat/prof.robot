{
 "cells": [
  {
   "cell_type": "code",
   "execution_count": null,
   "metadata": {},
   "outputs": [],
   "source": [
    "import os\n",
    "os.environ['PATH'] = '/usr/local/cuda-11.6/bin:' + os.environ['PATH']\n",
    "if 'notebooks' not in os.listdir(os.getcwd()):\n",
    "    os.chdir('../') #changing directories so that output/gsplat_full etc. exists\n",
    "\n",
    "from contextlib import redirect_stdout\n",
    "from video_api import initialize_gaussians\n",
    "from gaussian_renderer import render\n",
    "import sys \n",
    "import torch \n",
    "from PIL import Image\n",
    "import numpy as np\n",
    "import matplotlib.pyplot as plt\n",
    "\n",
    "#assumes that the model and dataset are in the same directory as this notebook\n",
    "sys.argv = ['']\n",
    "gaussians, background_color, sample_cameras, kinematic_chain = initialize_gaussians(model_path='ur5')\n",
    "\n",
    "def display_render(image_tensor: torch.Tensor):\n",
    "    im = image_tensor.detach().permute(1, 2, 0).cpu().numpy()\n",
    "    im = (im * 255).astype(np.uint8)\n",
    "    plt.imshow(im)\n",
    "    plt.axis('off')\n",
    "    plt.show()\n",
    "\n",
    "example_camera = sample_cameras[0]"
   ]
  },
  {
   "cell_type": "code",
   "execution_count": null,
   "metadata": {},
   "outputs": [],
   "source": [
    "print(kinematic_chain.get_joint_parameter_names())\n",
    "n = len(kinematic_chain.get_joint_parameter_names())    \n",
    "example_camera.joint_pose = torch.tensor([0.6] * n).requires_grad_(True)\n",
    "example_camera.world_view_transform.requires_grad_(True)\n",
    "\n",
    "frame = torch.clamp(render(example_camera, gaussians, background_color)['render'], 0, 1)\n",
    "print(frame.shape)\n",
    "display_render(frame)\n",
    "\n",
    "frame.sum().backward()\n",
    "print('Sum of joint gradients:', example_camera.joint_pose.grad.sum())\n",
    "print('Sum of camera gradients:', example_camera.world_view_transform.grad.sum())"
   ]
  }
 ],
 "metadata": {
  "kernelspec": {
   "display_name": "Python 3",
   "language": "python",
   "name": "python3"
  },
  "language_info": {
   "codemirror_mode": {
    "name": "ipython",
    "version": 3
   },
   "file_extension": ".py",
   "mimetype": "text/x-python",
   "name": "python",
   "nbconvert_exporter": "python",
   "pygments_lexer": "ipython3",
   "version": "3.10.15"
  }
 },
 "nbformat": 4,
 "nbformat_minor": 2
}
